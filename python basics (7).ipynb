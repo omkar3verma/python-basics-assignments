{
 "cells": [
  {
   "cell_type": "code",
   "execution_count": null,
   "id": "ba9a8b4b-d422-4bef-9f1a-667cc0bcd86e",
   "metadata": {
    "scrolled": true
   },
   "outputs": [],
   "source": [
    "#1. What is Python, and why is it popular?\n",
    "#ans - python is a programming language that is easy to understand and write, making it popular choice amongst programmers.it is compatibe with various\n",
    "#programming paradigms, it has a large active community and large librarires."
   ]
  },
  {
   "cell_type": "code",
   "execution_count": null,
   "id": "f4345e8a-0388-4d78-b23b-609132039f59",
   "metadata": {},
   "outputs": [],
   "source": [
    "#2. What is an interpreter in Python?\n",
    "#ans- interpreter is a computer program that translates python code into machine code that a computer can understand."
   ]
  },
  {
   "cell_type": "code",
   "execution_count": null,
   "id": "63681839-bbd4-4f5c-9977-04bdb0f3742f",
   "metadata": {},
   "outputs": [],
   "source": [
    "#3.What are pre-defined keywords in Python?\n",
    "#ans- keywords are reserved words in python that have special meanings. example are if, else, for, true, false, none etc.\n",
    "#keywords are case sensitive and cannot be refined with a python program."
   ]
  },
  {
   "cell_type": "code",
   "execution_count": null,
   "id": "1bbade78-b365-46e0-a401-711d11702081",
   "metadata": {},
   "outputs": [],
   "source": [
    "#4. Can keywords be used as variable names?\n",
    "#ans- No. keywords cant be used as variable names as they are reserved words that define structure and syntax rules of a language."
   ]
  },
  {
   "cell_type": "code",
   "execution_count": null,
   "id": "efaf410a-15e8-4480-a2a7-148946c91703",
   "metadata": {},
   "outputs": [],
   "source": [
    "#5. What is mutability in Python?\n",
    "#ans- mutability is ability to modify an object vakue after it has been created."
   ]
  },
  {
   "cell_type": "code",
   "execution_count": null,
   "id": "bf7991f4-a7e3-4df5-ab0f-4e48534528a0",
   "metadata": {},
   "outputs": [],
   "source": [
    "#6. Why are lists mutable, but tuples are immutable?\n",
    "#ans- lists are mutable because they are designed for operations like adding or modifying elements. while tuples are immutable to ensure \n",
    "#consistency and to provide better perforamnce for fixed data collection."
   ]
  },
  {
   "cell_type": "code",
   "execution_count": null,
   "id": "b4b072b5-1a6e-40c8-a500-de93b1585024",
   "metadata": {},
   "outputs": [],
   "source": [
    "#7. What is the difference between “==” and “is” operators in Python?\n",
    "#ans- \"==\"operator campares two objects to check if they are equal.\n",
    "#\"is\" operator compares the memory addresses of two object to check if they are the same object."
   ]
  },
  {
   "cell_type": "code",
   "execution_count": null,
   "id": "31f22ac0-a7f7-4349-b1a6-f546a7d0a59e",
   "metadata": {},
   "outputs": [],
   "source": [
    "#8. What are logical operators in Python?\n",
    "ans- logical operators in python are used to combine conditional statements. there are 3 logical operators\n",
    "1. AND - returns true if both operands are true\n",
    "2. OR- returns true if at least one operand is true\n",
    "3. NOT- returns true if operand is false and vice versa."
   ]
  },
  {
   "cell_type": "code",
   "execution_count": null,
   "id": "8a04bbc4-7a4b-4331-8c14-1b5489fcf9e3",
   "metadata": {},
   "outputs": [],
   "source": [
    "#9. What is type casting in Python?\n",
    "ans- type casting in python is the process of converting one data type into another. it is useful when you want to perform operations\n",
    "between incompatible types or ensure data in desired format."
   ]
  },
  {
   "cell_type": "code",
   "execution_count": null,
   "id": "51d5b2a9-6e5e-4d9e-94f5-4fe3ccb18514",
   "metadata": {},
   "outputs": [],
   "source": [
    "#10. What is the difference between implicit and explicit type casting?\n",
    "ans- implicit type casting automatically converts one data to another(eg. int to float) to avoid errors and ensure compatibility.\n",
    "explicit type casting is when you manually converts one data type to another.(eg. using int(), float(), str()) when python doesnt do it personally."
   ]
  },
  {
   "cell_type": "code",
   "execution_count": null,
   "id": "368857f6-7e32-476d-ba4f-828025577f5f",
   "metadata": {},
   "outputs": [],
   "source": [
    "#11. What is the purpose of conditional statements in Python?\n",
    "ans- conditional statements in python is to allow a program to make decisions and execute specific blocks of codle based on whether\n",
    "condition is true or flase."
   ]
  },
  {
   "cell_type": "code",
   "execution_count": null,
   "id": "d51c49a2-ba69-4504-83dc-3e5557bfe5fb",
   "metadata": {},
   "outputs": [],
   "source": [
    "#12. How does the elif statement work?\n",
    "ans- the elif statements in python is used to check multiple conditions in a program. it stands for 'else if' and allows you to test additional conditions 'if' or 'elif' conditions are false."
   ]
  },
  {
   "cell_type": "code",
   "execution_count": null,
   "id": "965337a8-70b3-4190-88c3-5c8f277bfc79",
   "metadata": {},
   "outputs": [],
   "source": [
    "#13. What is the difference between for and while loops?\n",
    "ans- for loop: repeats a block of code to specific number of times based on a sequence or range.\n",
    "while loop: repeats a block of code as lond as a condition is true, and stops when the condition becomes false."
   ]
  },
  {
   "cell_type": "code",
   "execution_count": null,
   "id": "97dc57de-ca40-4278-b0e0-c6833b72f167",
   "metadata": {},
   "outputs": [],
   "source": [
    "#14.  Describe a scenario where a while loop is more suitable than a for loop. \n",
    "ans- a while loop is more suitable than a FOR loop when you dont know in advance how many times you need to repeat the loop. nut you want to\n",
    "continue until a specific condition is met. eg, asking a user to enter password but we dont know how many attempts he will take."
   ]
  },
  {
   "cell_type": "markdown",
   "id": "90c01e59-39a6-4999-a661-e7a7b4d1dc19",
   "metadata": {},
   "source": [
    "PRACTICAL QUESTIONS"
   ]
  },
  {
   "cell_type": "code",
   "execution_count": null,
   "id": "196642a3-b3b6-4638-8c05-d99f12e937d5",
   "metadata": {},
   "outputs": [],
   "source": [
    "#1. Write a Python program to print \"Hello, World!\""
   ]
  },
  {
   "cell_type": "code",
   "execution_count": 3,
   "id": "1246af61-0126-48dc-923e-d60196b04aac",
   "metadata": {},
   "outputs": [
    {
     "name": "stdout",
     "output_type": "stream",
     "text": [
      "Hello, World!\n"
     ]
    }
   ],
   "source": [
    "print (\"Hello, World!\")"
   ]
  },
  {
   "cell_type": "code",
   "execution_count": null,
   "id": "31500b26-8b4b-4e89-a0f6-4b604dba82e5",
   "metadata": {},
   "outputs": [],
   "source": [
    "#2. Write a Python program that displays your name and age "
   ]
  },
  {
   "cell_type": "code",
   "execution_count": 49,
   "id": "e6fba03b-7e9b-4c90-8625-4b41a8488668",
   "metadata": {},
   "outputs": [
    {
     "name": "stdout",
     "output_type": "stream",
     "text": [
      "my name is Omkar Verma\n",
      "my age is 23\n"
     ]
    }
   ],
   "source": [
    "name: \"Omkar Verma\"\n",
    "age: 23\n",
    "\n",
    "print (\"my name is\", name)\n",
    "print (\"my age is\", age)"
   ]
  },
  {
   "cell_type": "raw",
   "id": "a0edfeb9-4e5a-4eb1-9444-f6830a2a409b",
   "metadata": {},
   "source": [
    "#3.  Write code to print all the pre-defined keywords in Python using the keyword library"
   ]
  },
  {
   "cell_type": "code",
   "execution_count": 69,
   "id": "5bd19f75-cf19-44b1-90f5-7c446ea9e4a2",
   "metadata": {},
   "outputs": [
    {
     "name": "stdout",
     "output_type": "stream",
     "text": [
      "print python keyword:\n",
      "False\n",
      "None\n",
      "True\n",
      "and\n",
      "as\n",
      "assert\n",
      "async\n",
      "await\n",
      "break\n",
      "class\n",
      "continue\n",
      "def\n",
      "del\n",
      "elif\n",
      "else\n",
      "except\n",
      "finally\n",
      "for\n",
      "from\n",
      "global\n",
      "if\n",
      "import\n",
      "in\n",
      "is\n",
      "lambda\n",
      "nonlocal\n",
      "not\n",
      "or\n",
      "pass\n",
      "raise\n",
      "return\n",
      "try\n",
      "while\n",
      "with\n",
      "yield\n"
     ]
    }
   ],
   "source": [
    "import keyword \n",
    "\n",
    "keywords=keyword.kwlist\n",
    "\n",
    "print (\"print python keyword:\")\n",
    "for kw in keywords:\n",
    "    print(kw)"
   ]
  },
  {
   "cell_type": "code",
   "execution_count": null,
   "id": "3f3a6cf3-c511-470c-9760-bec7273d2090",
   "metadata": {},
   "outputs": [],
   "source": [
    "#4. 0 Write a program that checks if a given word is a Python keyword"
   ]
  },
  {
   "cell_type": "code",
   "execution_count": 109,
   "id": "e1c8b02f-cf86-419e-b8cb-182313c11259",
   "metadata": {},
   "outputs": [
    {
     "name": "stdin",
     "output_type": "stream",
     "text": [
      "Enter a word:  for\n"
     ]
    },
    {
     "name": "stdout",
     "output_type": "stream",
     "text": [
      "'for' is a Python keyword.\n"
     ]
    }
   ],
   "source": [
    "import keyword\n",
    "word = input(\"Enter a word: \")\n",
    "if keyword.iskeyword(word):\n",
    "    print(f\"'{word}' is a Python keyword.\")\n",
    "else:\n",
    "    print(f\"'{word}' is not a Python keyword.\") \n"
   ]
  },
  {
   "cell_type": "raw",
   "id": "4a5ae2e8-4173-40d9-984f-22b0a11bd0de",
   "metadata": {},
   "source": [
    "#5. Create a list and tuple in Python, and demonstrate how attempting to change an element works differently\n",
    "for each"
   ]
  },
  {
   "cell_type": "code",
   "execution_count": 153,
   "id": "adf0b849-19ee-4c5c-b1bb-0c8eb680e2ea",
   "metadata": {},
   "outputs": [
    {
     "name": "stdout",
     "output_type": "stream",
     "text": [
      "original list: [1, 2, 3, 4]\n",
      "list after change: [10, 2, 3, 4]\n",
      "original tuple: (1, 2, 3, 4)\n"
     ]
    },
    {
     "ename": "TypeError",
     "evalue": "'tuple' object does not support item assignment",
     "output_type": "error",
     "traceback": [
      "\u001b[1;31m---------------------------------------------------------------------------\u001b[0m",
      "\u001b[1;31mTypeError\u001b[0m                                 Traceback (most recent call last)",
      "Cell \u001b[1;32mIn[153], line 8\u001b[0m\n\u001b[0;32m      5\u001b[0m \u001b[38;5;28mprint\u001b[39m(\u001b[38;5;124m\"\u001b[39m\u001b[38;5;124mlist after change:\u001b[39m\u001b[38;5;124m\"\u001b[39m, a_list)\n\u001b[0;32m      7\u001b[0m \u001b[38;5;28mprint\u001b[39m(\u001b[38;5;124m\"\u001b[39m\u001b[38;5;124moriginal tuple:\u001b[39m\u001b[38;5;124m\"\u001b[39m, b_tuple)\n\u001b[1;32m----> 8\u001b[0m b_tuple[\u001b[38;5;241m0\u001b[39m] \u001b[38;5;241m=\u001b[39m \u001b[38;5;241m10\u001b[39m\n\u001b[0;32m      9\u001b[0m \u001b[38;5;28mprint\u001b[39m(\u001b[38;5;124m\"\u001b[39m\u001b[38;5;124mtuple after change:\u001b[39m\u001b[38;5;124m\"\u001b[39m, b_tuple)\n",
      "\u001b[1;31mTypeError\u001b[0m: 'tuple' object does not support item assignment"
     ]
    }
   ],
   "source": [
    "a_list = [1,2,3,4]\n",
    "b_tuple = (1,2,3,4)\n",
    "print(\"original list:\", a_list)\n",
    "a_list[0]= 10\n",
    "print(\"list after change:\", a_list)\n",
    "\n",
    "print(\"original tuple:\", b_tuple)\n",
    "b_tuple[0] = 10\n",
    "print(\"tuple after change:\", b_tuple) #tuples are immutable\n"
   ]
  },
  {
   "cell_type": "raw",
   "id": "e0e161bb-659c-40f5-a3eb-7a23e55212b5",
   "metadata": {},
   "source": [
    "#6. Write a function to demonstrate the behavior of mutable and immutable arguments"
   ]
  },
  {
   "cell_type": "code",
   "execution_count": null,
   "id": "d8da4cf4-215d-4a77-974c-b29f00a85c5e",
   "metadata": {},
   "outputs": [],
   "source": [
    "immutable_arg += 10\n",
    "    print(\"Inside function (immutable):\", immutable_arg)\n",
    "\n",
    "    mutable_arg.append(100)\n",
    "    print(\"Inside function (mutable):\", mutable_arg)\n",
    "\n",
    "num = 5\n",
    "\n",
    "my_list = [1, 2, 3]\n",
    "print(\"Before function call (immutable):\", num)\n",
    "print(\"Before function call (mutable):\", my_list)\n",
    "\n",
    "demonstrate_mutable_and_immutable(num, my_list)\n",
    "\n",
    "print(\"After function call (immutable):\", num)\n",
    "print(\"After function call (mutable):\", my_list)  "
   ]
  },
  {
   "cell_type": "code",
   "execution_count": null,
   "id": "cc128c7b-41f0-4163-a2b4-9e8f217e0c39",
   "metadata": {},
   "outputs": [],
   "source": [
    "#7. Write a function to demonstrate the behavior of mutable and immutable arguments"
   ]
  },
  {
   "cell_type": "code",
   "execution_count": null,
   "id": "c1f85dea-1d64-436a-81f6-709195375c6e",
   "metadata": {},
   "outputs": [],
   "source": []
  },
  {
   "cell_type": "code",
   "execution_count": null,
   "id": "1c8bd76c-2915-42dc-8b3e-3afae8b589ea",
   "metadata": {},
   "outputs": [],
   "source": [
    "#8.  Write a program to demonstrate the use of logical operators"
   ]
  },
  {
   "cell_type": "code",
   "execution_count": 224,
   "id": "8b244004-5d4f-4d85-a9c3-13bbbabf92c3",
   "metadata": {},
   "outputs": [
    {
     "name": "stdout",
     "output_type": "stream",
     "text": [
      "statement is true with 'and' operator\n",
      "one statement is true with 'or' operator\n",
      "reverse the logical state\n"
     ]
    }
   ],
   "source": [
    "x = 5\n",
    "y = 10\n",
    "\n",
    "if x > 3 and y < 15: #both condition must be true\n",
    "    print(\"statement is true with 'and' operator\")\n",
    "\n",
    "if x > 10 or y == 10: #at leat one condition should be true\n",
    "    print(\"one statement is true with 'or' operator\")\n",
    "\n",
    "if not x > 15: #reverse the state \n",
    "    print(\"reverse the logical state\")\n"
   ]
  },
  {
   "cell_type": "code",
   "execution_count": null,
   "id": "d8b95271-fde2-456e-941c-11de462dc2c5",
   "metadata": {},
   "outputs": [],
   "source": [
    "#9. Write a Python program to convert user input from string to integer, float, and boolean types"
   ]
  },
  {
   "cell_type": "code",
   "execution_count": 252,
   "id": "e672e658",
   "metadata": {},
   "outputs": [
    {
     "name": "stdin",
     "output_type": "stream",
     "text": [
      "Enter a value:  2\n"
     ]
    },
    {
     "name": "stdout",
     "output_type": "stream",
     "text": [
      "Converted to integer: 2\n",
      "Converted to float: 2.0\n",
      "Converted to boolean: True\n"
     ]
    }
   ],
   "source": [
    "user_input = input(\"Enter a value: \")\n",
    "\n",
    "try: \n",
    "    int_value = int(user_input)\n",
    "    print(\"Converted to integer:\", int_value)\n",
    "except ValueError:\n",
    "    print(\"The input cannot be converted to an integer.\")\n",
    "\n",
    "\n",
    "try:\n",
    "    float_value = float(user_input)\n",
    "    print(\"Converted to float:\", float_value)\n",
    "except ValueError:\n",
    "    print(\"The input cannot be converted to a float.\")\n",
    "\n",
    "bool_value = bool(user_input)\n",
    "print(\"Converted to boolean:\", bool_value)"
   ]
  },
  {
   "cell_type": "code",
   "execution_count": null,
   "id": "2904f5ce-5405-4d4c-bd08-2dee935ecebf",
   "metadata": {},
   "outputs": [],
   "source": [
    "#10. Write code to demonstrate type casting with list elements"
   ]
  },
  {
   "cell_type": "code",
   "execution_count": 275,
   "id": "95837285-8fb6-4fe8-abf1-772448e81c6c",
   "metadata": {},
   "outputs": [
    {
     "name": "stdout",
     "output_type": "stream",
     "text": [
      "Integer value: 10\n",
      "Float value: 20.5\n",
      "Boolean value: True\n"
     ]
    }
   ],
   "source": [
    "my_list = ['10', '20.5', 'True']\n",
    "\n",
    "# Convert the first element to integer\n",
    "int_value = int(my_list[0])\n",
    "print(\"Integer value:\", int_value)\n",
    "\n",
    "# Convert the second element to float\n",
    "float_value = float(my_list[1])\n",
    "print(\"Float value:\", float_value)\n",
    "\n",
    "# Convert the third element to boolean\n",
    "bool_value = bool(my_list[2])\n",
    "print(\"Boolean value:\", bool_value) \n"
   ]
  },
  {
   "cell_type": "code",
   "execution_count": 256,
   "id": "25651d67-aec7-4043-aed7-cf32ff801cdb",
   "metadata": {},
   "outputs": [],
   "source": [
    "#11. 0 Write a program that checks if a number is positive, negative, or zero"
   ]
  },
  {
   "cell_type": "code",
   "execution_count": 281,
   "id": "013f0608-60c5-439c-9988-e466016035d1",
   "metadata": {},
   "outputs": [
    {
     "name": "stdin",
     "output_type": "stream",
     "text": [
      "enter a number: -5\n"
     ]
    },
    {
     "name": "stdout",
     "output_type": "stream",
     "text": [
      "the number is negative:\n"
     ]
    }
   ],
   "source": [
    "number = float(input(\"enter a number:\"))\n",
    "if number > 0:\n",
    "    print(\"the number is positive:\")\n",
    "elif number <0:\n",
    "    print(\"the number is negative:\")\n",
    "else:\n",
    "    print(\"the number is zero:\") \n"
   ]
  },
  {
   "cell_type": "code",
   "execution_count": null,
   "id": "9f6c4476-e24c-4cad-b3b3-1f914c6bceac",
   "metadata": {},
   "outputs": [],
   "source": [
    "#12.Write a for loop to print numbers from 1 to 10"
   ]
  },
  {
   "cell_type": "code",
   "execution_count": 283,
   "id": "e43fcb1b-3685-481b-b2b1-4ebc181c872d",
   "metadata": {},
   "outputs": [
    {
     "name": "stdout",
     "output_type": "stream",
     "text": [
      "1\n",
      "2\n",
      "3\n",
      "4\n",
      "5\n",
      "6\n",
      "7\n",
      "8\n",
      "9\n",
      "10\n"
     ]
    }
   ],
   "source": [
    "for i in range (1,11):\n",
    "    print(i) "
   ]
  },
  {
   "cell_type": "code",
   "execution_count": null,
   "id": "94740861-1f96-4958-a634-8ac5bd0a1960",
   "metadata": {},
   "outputs": [],
   "source": [
    "#13. Write a Python program to find the sum of all even numbers between 1 and 50"
   ]
  },
  {
   "cell_type": "code",
   "execution_count": 303,
   "id": "d8913370-632e-4a1c-8d06-0b3451097ce3",
   "metadata": {},
   "outputs": [
    {
     "name": "stdout",
     "output_type": "stream",
     "text": [
      "The sum of all even numbers between 1 and 50 is: 650\n"
     ]
    }
   ],
   "source": [
    "even_sum = 0\n",
    "for num in range(1, 51):\n",
    "    if num % 2 == 0:\n",
    "        even_sum += num\n",
    "print(\"The sum of all even numbers between 1 and 50 is:\", even_sum)"
   ]
  },
  {
   "cell_type": "raw",
   "id": "e5a6eca0-5265-4a92-961d-30b07b6e038e",
   "metadata": {},
   "source": [
    "#14. Write a program to reverse a string using a while loop"
   ]
  },
  {
   "cell_type": "code",
   "execution_count": null,
   "id": "2b9c5d1c-d8fd-434c-b9ce-3f4cdf821175",
   "metadata": {},
   "outputs": [],
   "source": [
    "input_string = input(\"enter a string:\")\n",
    "reversed_string = \"\"\n",
    "i = len(input_string)-1\n",
    "while 1 >= 0:\n",
    "    reversed_string += input_string[i]\n",
    "    i -= 1\n",
    "    print(\"reversed string:\", reversed_string)   #unable to run code"
   ]
  },
  {
   "cell_type": "code",
   "execution_count": null,
   "id": "1aeb8053-5a93-4f1e-af79-37b9bc7a414f",
   "metadata": {},
   "outputs": [],
   "source": [
    "#15. 0 Write a Python program to calculate the factorial of a number provided by the user using a while loop"
   ]
  },
  {
   "cell_type": "code",
   "execution_count": null,
   "id": "de9d7b7c-0d85-4351-b8a5-51738a7760a6",
   "metadata": {},
   "outputs": [
    {
     "name": "stdin",
     "output_type": "stream",
     "text": [
      "Enter a number:  10\n"
     ]
    }
   ],
   "source": [
    "num = int(input(\"Enter a number: \"))\n",
    "factorial = 1\n",
    "i = 1\n",
    "\n",
    "while i <= num:\n",
    "    factorial *= i\n",
    "    i += 1\n",
    "\n",
    "print(f\"The factorial of {num} is {factorial}\")"
   ]
  },
  {
   "cell_type": "code",
   "execution_count": null,
   "id": "89f3f811-68f3-4b79-87d7-2b24e2fcc464",
   "metadata": {},
   "outputs": [],
   "source": [
    "\n"
   ]
  },
  {
   "cell_type": "code",
   "execution_count": null,
   "id": "0235a462-2386-4b6a-be9b-e65aca714932",
   "metadata": {},
   "outputs": [],
   "source": []
  },
  {
   "cell_type": "code",
   "execution_count": null,
   "id": "f825da70-56ed-4cbd-ba02-d5f5ed285c09",
   "metadata": {},
   "outputs": [],
   "source": []
  },
  {
   "cell_type": "code",
   "execution_count": null,
   "id": "7bb859cc-09d9-42f7-8d5e-d6376208fc6a",
   "metadata": {},
   "outputs": [],
   "source": []
  }
 ],
 "metadata": {
  "kernelspec": {
   "display_name": "Python 3 (ipykernel)",
   "language": "python",
   "name": "python3"
  },
  "language_info": {
   "codemirror_mode": {
    "name": "ipython",
    "version": 3
   },
   "file_extension": ".py",
   "mimetype": "text/x-python",
   "name": "python",
   "nbconvert_exporter": "python",
   "pygments_lexer": "ipython3",
   "version": "3.12.7"
  }
 },
 "nbformat": 4,
 "nbformat_minor": 5
}
